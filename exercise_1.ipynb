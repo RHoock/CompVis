{
  "cells": [
    {
      "cell_type": "markdown",
      "metadata": {
        "id": "rHqYz01N95du"
      },
      "source": [
        "# Computer Vision\n",
        "## Exercise Sheet 1: Imaging\n",
        "### Erhardt Barth / Philipp Gruening / Christoph Linse / Manuel Laufer\n",
        "Universität zu Lübeck, Institut für Neuro- und Bioinformatik\n",
        "\n",
        "In case of questions, contact us via email: *{barth, gruening, linse, laufer} @inb.uni-luebeck.de*"
      ]
    },
    {
      "cell_type": "markdown",
      "metadata": {
        "id": "_cipc7m695dw"
      },
      "source": [
        "## Note: Please insert the names of all participating students:\n",
        "\n",
        "1. Rafael Hoock\n",
        "2. Manuel Herbst\n",
        "3. \n",
        "4. \n",
        "5. \n"
      ]
    },
    {
      "cell_type": "code",
      "execution_count": null,
      "metadata": {
        "id": "lYOY4j1i95dy"
      },
      "outputs": [],
      "source": [
        "import sys, os\n",
        "if 'google.colab' in sys.modules:\n",
        "  if os.getcwd() == '/content':\n",
        "    !git clone 'https://github.com/inb-luebeck/cs4250.git'\n",
        "    os.chdir('cs4250')"
      ]
    },
    {
      "cell_type": "code",
      "execution_count": null,
      "metadata": {
        "id": "MdHzum2795dz"
      },
      "outputs": [],
      "source": [
        "import cv2 # open cv\n",
        "import matplotlib.pyplot as plt # plotting tools\n",
        "import numpy as np # matrix, array operations\n",
        "\n",
        "from os.path import join # combine different items to a path\n",
        "from os import getcwd, listdir # shows the current directory, lists items in a directory\n",
        "\n",
        "# show plots when running cell\n",
        "%matplotlib inline "
      ]
    },
    {
      "cell_type": "markdown",
      "metadata": {
        "id": "ft0o6cUR95dz"
      },
      "source": [
        "## Exercise 1.1\n",
        "### Loading and displaying images in Python\n",
        "Download the image `clown.png` from the website of the tutorial. Load\n",
        "the image in Python via opencv (`cv2.imread`). By default the image is loaded as BGR (blue, green, red), convert the image to gray with `cv2.cvtColor`.\n",
        "Display the image `plt.imshow`, use the colormap `gray`."
      ]
    },
    {
      "cell_type": "code",
      "execution_count": null,
      "metadata": {
        "id": "rVDC70tp95d0"
      },
      "outputs": [],
      "source": [
        "# TODO: define image path\n",
        "\n",
        "# TODO: read image\n",
        "\n",
        "# TODO: convert image to grayscale\n",
        "\n",
        "# TODO: display image\n"
      ]
    },
    {
      "cell_type": "markdown",
      "metadata": {
        "id": "gcBwWZSn95d0"
      },
      "source": [
        "## Exercise 1.2\n",
        "### Image gradients\n",
        "Images are stored as `numpy arrays`, for further computations convert the array to range $[0, 1]$ (`astype`). Define a function `load_gray_normalized` that loads the image, converts it to grayscale and normalizes it.\n",
        "Compute the image gradients $d_x$ and $d_y$ for the image from the previous assignment. Initialize a simple gradient kernel like $[-1, 0, +1]$ for $d_x$ (`np.zeros`, `np.array`) and filter the image with it (`cv2.filter2D`). Visualize the results using `plt.imshow`. To this end, display the resulting images of both derivatives along `x` and `y` in a single figure (`plt.subplots`).\n",
        "\n",
        "What do you need to take care of, to be able to visually **compare** the results?\n",
        "Hint: the problem is related to the range of the pixel values in the two \n",
        "gradient images. Name the problem and propose a solution to it by using the options of the `plt.imshow`\n",
        "function. "
      ]
    },
    {
      "cell_type": "code",
      "execution_count": null,
      "metadata": {
        "id": "hWzrLdjf95d1"
      },
      "outputs": [],
      "source": [
        "def load_gray_normalized(image_path):\n",
        "    pass"
      ]
    },
    {
      "cell_type": "code",
      "execution_count": null,
      "metadata": {
        "id": "aP_suY8J95d2"
      },
      "outputs": [],
      "source": [
        "# TODO: load image\n",
        "\n",
        "# TODO: define kernels\n",
        "\n",
        "# TODO: filter images\n",
        "\n",
        "# TODO: display images\n"
      ]
    },
    {
      "cell_type": "markdown",
      "metadata": {
        "id": "ixw73gyA95d3"
      },
      "source": [
        "## Exercise 1.3\n",
        "### Point operations\n",
        "Download from the website the images `ueb131.png` and `ueb132.png`, \n",
        "then load and display them.  \n",
        "Both images illustrate two commonly encountered problems in photography. \n",
        "Underexposed (overexposed) images are darker (brighter) than they should be, \n",
        "because they have been exposed to too little (too much) light. \n",
        "\n",
        "Compute and display the histograms (`plt.hist`,`np.flatten`) of the images in range $[0,1]$. Write a function `display_with_hist` that creates two subplots, showing the image and the respective histogram.\n",
        "\n",
        "Can you identify the exposure problems in the histograms?\n",
        "Hint: look at how the pixel intensities are distributed. \n",
        "\n",
        "These defects can be corrected by remapping the pixel values to achieve a \n",
        "more evenly distributed range of pixel intensities. \n",
        "This can either be done by using histogram equalization (`cv2.equalizeHist`) or by using the logarithmic and power functions.\n",
        "\n",
        "To use `cv2.equalizeHist`, the images need to be casted to uint8 in $[0,255]$. Write a function `normalized_to_uint8` to do this.\n",
        "\n",
        "Apply the logarithmic and power to improve the two images. Experiment with different bases for the logarithm and power. To get a better feeling for the problem, plot the functions $x^2$ in $[0,1]$ and $log(x)$ in $[1,255]$ (why not $[0, 255]$?, `np.linspace, np.log, plt.plot`). **Where do the functions change quickly, where do they change slowly? How can you use this knowledge to improve the images?**"
      ]
    },
    {
      "cell_type": "code",
      "execution_count": null,
      "metadata": {
        "id": "xGO8WKyP95d4"
      },
      "outputs": [],
      "source": [
        "def display_with_hist(image):\n",
        "    pass"
      ]
    },
    {
      "cell_type": "code",
      "execution_count": null,
      "metadata": {
        "id": "IUMB5UQV95d4"
      },
      "outputs": [],
      "source": [
        "def normalized_to_uint8(image):\n",
        "    pass"
      ]
    },
    {
      "cell_type": "code",
      "execution_count": null,
      "metadata": {
        "id": "0nGpiEmw95d4"
      },
      "outputs": [],
      "source": [
        "# TODO: load images\n",
        "\n",
        "# TODO: display images with histograms\n"
      ]
    },
    {
      "cell_type": "code",
      "execution_count": null,
      "metadata": {
        "id": "LbafqYzf95d5"
      },
      "outputs": [],
      "source": [
        "# TODO: convert images to uint8\n",
        "\n",
        "# TODO: equalize histogram and display\n"
      ]
    },
    {
      "cell_type": "code",
      "execution_count": null,
      "metadata": {
        "id": "Fxrz9Jlb95d5"
      },
      "outputs": [],
      "source": [
        "# TODO: display logarithmic function\n",
        "\n",
        "# TODO: display quadratic function\n"
      ]
    },
    {
      "cell_type": "code",
      "execution_count": null,
      "metadata": {
        "id": "zvMkRRNR95d6"
      },
      "outputs": [],
      "source": [
        "# TODO: transform and display ueb131.png\n"
      ]
    },
    {
      "cell_type": "code",
      "execution_count": null,
      "metadata": {
        "id": "U5W-trqY95d6"
      },
      "outputs": [],
      "source": [
        "# TODO: transform and display ueb132.png\n"
      ]
    }
  ],
  "metadata": {
    "kernelspec": {
      "display_name": "Python 3",
      "language": "python",
      "name": "python3"
    },
    "language_info": {
      "codemirror_mode": {
        "name": "ipython",
        "version": 3
      },
      "file_extension": ".py",
      "mimetype": "text/x-python",
      "name": "python",
      "nbconvert_exporter": "python",
      "pygments_lexer": "ipython3",
      "version": "3.6.9"
    },
    "colab": {
      "provenance": []
    }
  },
  "nbformat": 4,
  "nbformat_minor": 0
}
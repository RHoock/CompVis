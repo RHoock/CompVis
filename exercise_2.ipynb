{
  "cells": [
    {
      "cell_type": "markdown",
      "metadata": {
        "id": "ENLKdEKiNZxE"
      },
      "source": [
        "# Computer Vision\n",
        "## Exercise Sheet 2: Image Aquisition, Optics\n",
        "### Erhardt Barth / Philipp Gruening / Christoph Linse / Manuel Laufer\n",
        "Universität zu Lübeck, Institut für Neuro- und Bioinformatik\n",
        "\n",
        "In case of questions, contact us via email: *{barth, gruening, linse, laufer} @inb.uni-luebeck.de*"
      ]
    },
    {
      "cell_type": "markdown",
      "metadata": {
        "id": "SfBJGsLLNZxH"
      },
      "source": [
        "## Note: Please insert the names of all participating students:\n",
        "\n",
        "1. \n",
        "2. \n",
        "3. \n",
        "4. \n",
        "5. \n"
      ]
    },
    {
      "cell_type": "markdown",
      "metadata": {
        "id": "BdqeNgFuNZxH"
      },
      "source": [
        "## Exercise 2.1 \n",
        "### Thin Lenses\n",
        "Consider a thin lens with a fixed focal length $f$. The light rays coming from an object are focussed by the lens so that the depicted object is in focus at a distance $f_c$ behind the lens. This setting is visualized in the following figure:\n",
        "<img src=\"https://drive.google.com/uc?id=1-Wu6CkCwgJkMWUdb20UkFsBjXBvLCJ3V\" alt=\"drawing\" width=\"400\"/>\n",
        "\n",
        "**Draw a sketch** of how $f_c$ would change for an object, which is placed closer to the lens and one placed further away.\n",
        "\n",
        "### Antwort\n",
        "**->** Wenn das Objekt näher ist, dann ist $f_C$ größer. Anders herum, wenn das Objekt weiter weg ist. dann ist $f_c$ kürzer."
      ]
    },
    {
      "cell_type": "markdown",
      "metadata": {
        "id": "-c-P4X80NZxI"
      },
      "source": [
        "## Exercise 2.2\n",
        "### The influence of the focal length\n",
        "For a given object we place the image plane at the distance $f_c$ behind the lens, so that the object representation is in focus. How would the image change if the focal length of the lens would increase or decrease?\n",
        "**Draw a sketch** similar to the one given above, but reduce the focal length. Do not alter $f_c$; what problems occur with the image now?\n",
        "\n",
        "### Antwort\n",
        "**->** Das Bild wird verschwommen, Punkte werden zu Kreisen."
      ]
    },
    {
      "cell_type": "markdown",
      "metadata": {
        "id": "4iptrpB-NZxI"
      },
      "source": [
        "## Exercise 2.3\n",
        "### The influence of the aperture\n",
        "We now add an aperture to the previous model. For simplicity it is placed exactly at the position of the lens. This means that the aperture can be used to decrease the effective diameter of the lens without an influence on the focal length.\n",
        "In the previous exercise the image plane was placed at the distance $f_c$ corresponding to a focal length $f$ of the lens. Then, the focal length is slightly reduced.\n",
        "**Alter your sketch from Exercise 2.2.** What influence does the reduction of the aperture have on the image? Which effect can one observe when the diameter of the aperture is very small?\n",
        "\n",
        "### Antwort\n",
        "**->** Nähere Objekte werden bei kleinerer Aperture immernoch scharf dargestellt, ebenso bei solchen, die weiter weg sind."
      ]
    },
    {
      "cell_type": "markdown",
      "metadata": {
        "id": "Z1qaid3CNZxI"
      },
      "source": [
        "## Exercise 2.4\n",
        "### Conversion between pixel and camera coordinates\n",
        "Load data set `ueb24.npy` `(np.load)`.\n",
        "The image $B(i,j)$ is not a conventional intensity image. Each pixel $p = (x,y,f)^T$ encodes the distance from the focal point of the camera $(0, 0, 0)^T$ to a point in the 3D scene $P = (X, Y, Z)$. $p$ is the projection of $P$ on the image plane. So, the location corresponding to the pixel $p$ from the image matrix $B(i,j)$ will hold the distance $r$ between the point $P$ and the focal point. The image plane containing the pixel $p$, is placed at the distance $f$ from the focal point, parallel to the $XY$ plane.\n",
        "\n",
        "<img src=\"https://drive.google.com/uc?id=1TZT2lNjms_CrNBQGC3G3pI3XPZ3iMR3j\" alt=\"drawing\" width=\"400\"/>\n",
        "\n",
        "\n",
        "Write a Python routine that maps each pixel $p$ in $B(i,j)$ to the corresponding point $P = (X,Y,Z)$. Visualize the result in a 3D surface plot `(plt.plot_surface)`. Consider that you are using a camera with focal length $f = 0.008$ meters and a CCD-chip, in which the size of a pixel is $0.00004$ meters. The optical axis intersects the centre of the image matrix, which corresponds to the frame coordinates $(71.5, 87.5)$ on the CCD-chip.\n",
        "\n",
        "Some helpful commands: `np.arange, np.ones, np.meshgrid`."
      ]
    },
    {
      "cell_type": "code",
      "execution_count": 1,
      "metadata": {
        "id": "itGJaaJtNZxI",
        "outputId": "b1b8a2ff-dba7-46e3-cc4d-a7fbd2e9bad9",
        "colab": {
          "base_uri": "https://localhost:8080/"
        }
      },
      "outputs": [
        {
          "output_type": "stream",
          "name": "stdout",
          "text": [
            "Cloning into 'cs4250'...\n",
            "remote: Enumerating objects: 87, done.\u001b[K\n",
            "remote: Counting objects: 100% (87/87), done.\u001b[K\n",
            "remote: Compressing objects: 100% (65/65), done.\u001b[K\n",
            "remote: Total 87 (delta 35), reused 62 (delta 18), pack-reused 0\u001b[K\n",
            "Unpacking objects: 100% (87/87), 1.26 MiB | 4.32 MiB/s, done.\n"
          ]
        }
      ],
      "source": [
        "import sys, os\n",
        "if 'google.colab' in sys.modules:\n",
        "  if os.getcwd() == '/content':\n",
        "    !git clone 'https://github.com/inb-luebeck/cs4250.git'\n",
        "    os.chdir('cs4250')"
      ]
    },
    {
      "cell_type": "code",
      "execution_count": 2,
      "metadata": {
        "id": "KZYaqKd4NZxK"
      },
      "outputs": [],
      "source": [
        "import numpy as np\n",
        "import matplotlib.pyplot as plt\n",
        "from mpl_toolkits.mplot3d import Axes3D\n",
        "from matplotlib import cm"
      ]
    },
    {
      "cell_type": "code",
      "execution_count": null,
      "metadata": {
        "id": "r4UtI0LtNZxK"
      },
      "outputs": [],
      "source": [
        "# load matrix\n",
        "data = np.load('data/exercise_2/ueb24.npy')\n",
        "# define constants\n",
        "f = 0.008\n",
        "\n",
        "# extract image coordinates\n",
        "img_coord = []\n",
        "for m, n in data:\n",
        "  img_coord.append([m, n, data[m,n]])\n",
        "\n",
        "# Create 3 2d-Matrices, each containing the x,y and z value of a vector respecitively. \n",
        "# Those vectors are supposed to \"point at\" the image pixels from the centre of focus.\n",
        "x = np.random.rand(10,10)\n",
        "y = np.random.rand(10,10)\n",
        "z = np.random.rand(10,10)"
      ]
    },
    {
      "cell_type": "code",
      "execution_count": null,
      "metadata": {
        "id": "fhLmVvf-NZxK"
      },
      "outputs": [],
      "source": [
        "# if you're not using the notebook in Colab, you can use \"%matplotlib notebook\"\n",
        "# to create an interactive plot that can be rotated \n",
        "%matplotlib inline\n",
        "def plot_3d(x, y, z, elev, azim):\n",
        "  fig = plt.figure()\n",
        "  ax = fig.add_subplot(111, projection='3d')\n",
        "  ax.view_init(elev=elev, azim=azim)\n",
        "  ax.plot_surface(x,y,-z,cmap=cm.coolwarm)\n",
        "\n",
        "\n",
        "plot_3d(x, y, z, 45, -45)\n",
        "plot_3d(x, y, z, 90, -90)\n",
        "plot_3d(x, y, z, 0, 0)"
      ]
    }
  ],
  "metadata": {
    "interpreter": {
      "hash": "36cf16204b8548560b1c020c4e8fb5b57f0e4c58016f52f2d4be01e192833930"
    },
    "kernelspec": {
      "display_name": "Python 3.9.12 64-bit",
      "language": "python",
      "name": "python3"
    },
    "language_info": {
      "codemirror_mode": {
        "name": "ipython",
        "version": 3
      },
      "file_extension": ".py",
      "mimetype": "text/x-python",
      "name": "python",
      "nbconvert_exporter": "python",
      "pygments_lexer": "ipython3",
      "version": "3.9.12"
    },
    "colab": {
      "provenance": []
    }
  },
  "nbformat": 4,
  "nbformat_minor": 0
}